{
  "nbformat": 4,
  "nbformat_minor": 0,
  "metadata": {
    "kernelspec": {
      "name": "python3",
      "display_name": "Python 3"
    },
    "language_info": {
      "codemirror_mode": {
        "name": "ipython",
        "version": 3
      },
      "file_extension": ".py",
      "mimetype": "text/x-python",
      "name": "python",
      "nbconvert_exporter": "python",
      "pygments_lexer": "ipython3",
      "version": "3.6.8"
    },
    "colab": {
      "name": "BERT_huggingface_IMDB Movie review.ipynb",
      "provenance": [],
      "collapsed_sections": []
    }
  },
  "cells": [
    {
      "cell_type": "code",
      "metadata": {
        "id": "omfN5AZ9ys_g",
        "colab": {
          "base_uri": "https://localhost:8080/"
        },
        "outputId": "e8aea8a9-0813-477a-8eb4-7f49a31aeafb"
      },
      "source": [
        "from google.colab import drive\n",
        "\n",
        "drive.mount('/content/gdrive')"
      ],
      "execution_count": null,
      "outputs": [
        {
          "output_type": "stream",
          "name": "stdout",
          "text": [
            "Mounted at /content/gdrive\n"
          ]
        }
      ]
    },
    {
      "cell_type": "code",
      "metadata": {
        "id": "MrvPcIuR1Qnt"
      },
      "source": [
        "import pandas as pd\n",
        "\n",
        "imdb = \"/content/gdrive/My Drive/IMDB Dataset_bert_210219.csv\""
      ],
      "execution_count": null,
      "outputs": []
    },
    {
      "cell_type": "code",
      "metadata": {
        "id": "aYhj-RIeybIm",
        "colab": {
          "base_uri": "https://localhost:8080/"
        },
        "outputId": "3135e622-5e6e-46e4-90d1-bfb1b69549c7"
      },
      "source": [
        "import pickle as pc\n",
        "import os\n",
        "import numpy as np\n",
        "import csv\n",
        "import torch\n",
        "\n",
        "print(\"Pytorch Version: \", torch.__version__)\n",
        "\n",
        "if torch.cuda.is_available():\n",
        "\n",
        "    device = torch.device(\"cuda\")\n",
        "    \n",
        "    print(\"There are %d GPU(s) available.\" % torch.cuda.device_count())\n",
        "    print(\"We will use the GPU:\", torch.cuda.get_device_name(0))\n",
        "else:\n",
        "    print(\"No GPU available, using the CPU instead.\")\n",
        "    device = torch.device(\"cpu\")"
      ],
      "execution_count": null,
      "outputs": [
        {
          "output_type": "stream",
          "text": [
            "Pytorch Version:  1.8.0+cu101\n",
            "There are 1 GPU(s) available.\n",
            "We will use the GPU: Tesla T4\n"
          ],
          "name": "stdout"
        }
      ]
    },
    {
      "cell_type": "code",
      "metadata": {
        "id": "ZrMn70gSV3Ko",
        "colab": {
          "base_uri": "https://localhost:8080/"
        },
        "outputId": "d0204378-0b79-4e96-9df3-9941c8c98f9a"
      },
      "source": [
        "!pip install transformers"
      ],
      "execution_count": null,
      "outputs": [
        {
          "output_type": "stream",
          "text": [
            "Requirement already satisfied: transformers in /usr/local/lib/python3.7/dist-packages (4.4.2)\n",
            "Requirement already satisfied: numpy>=1.17 in /usr/local/lib/python3.7/dist-packages (from transformers) (1.19.5)\n",
            "Requirement already satisfied: filelock in /usr/local/lib/python3.7/dist-packages (from transformers) (3.0.12)\n",
            "Requirement already satisfied: tokenizers<0.11,>=0.10.1 in /usr/local/lib/python3.7/dist-packages (from transformers) (0.10.1)\n",
            "Requirement already satisfied: requests in /usr/local/lib/python3.7/dist-packages (from transformers) (2.23.0)\n",
            "Requirement already satisfied: regex!=2019.12.17 in /usr/local/lib/python3.7/dist-packages (from transformers) (2019.12.20)\n",
            "Requirement already satisfied: sacremoses in /usr/local/lib/python3.7/dist-packages (from transformers) (0.0.43)\n",
            "Requirement already satisfied: importlib-metadata; python_version < \"3.8\" in /usr/local/lib/python3.7/dist-packages (from transformers) (3.7.2)\n",
            "Requirement already satisfied: packaging in /usr/local/lib/python3.7/dist-packages (from transformers) (20.9)\n",
            "Requirement already satisfied: tqdm>=4.27 in /usr/local/lib/python3.7/dist-packages (from transformers) (4.41.1)\n",
            "Requirement already satisfied: urllib3!=1.25.0,!=1.25.1,<1.26,>=1.21.1 in /usr/local/lib/python3.7/dist-packages (from requests->transformers) (1.24.3)\n",
            "Requirement already satisfied: idna<3,>=2.5 in /usr/local/lib/python3.7/dist-packages (from requests->transformers) (2.10)\n",
            "Requirement already satisfied: chardet<4,>=3.0.2 in /usr/local/lib/python3.7/dist-packages (from requests->transformers) (3.0.4)\n",
            "Requirement already satisfied: certifi>=2017.4.17 in /usr/local/lib/python3.7/dist-packages (from requests->transformers) (2020.12.5)\n",
            "Requirement already satisfied: six in /usr/local/lib/python3.7/dist-packages (from sacremoses->transformers) (1.15.0)\n",
            "Requirement already satisfied: joblib in /usr/local/lib/python3.7/dist-packages (from sacremoses->transformers) (1.0.1)\n",
            "Requirement already satisfied: click in /usr/local/lib/python3.7/dist-packages (from sacremoses->transformers) (7.1.2)\n",
            "Requirement already satisfied: typing-extensions>=3.6.4; python_version < \"3.8\" in /usr/local/lib/python3.7/dist-packages (from importlib-metadata; python_version < \"3.8\"->transformers) (3.7.4.3)\n",
            "Requirement already satisfied: zipp>=0.5 in /usr/local/lib/python3.7/dist-packages (from importlib-metadata; python_version < \"3.8\"->transformers) (3.4.1)\n",
            "Requirement already satisfied: pyparsing>=2.0.2 in /usr/local/lib/python3.7/dist-packages (from packaging->transformers) (2.4.7)\n"
          ],
          "name": "stdout"
        }
      ]
    },
    {
      "cell_type": "code",
      "metadata": {
        "id": "1In5hQtPybIs"
      },
      "source": [
        "def load_data(filename):\n",
        "    data = list()\n",
        "    label = list()\n",
        "    \n",
        "    f = open(filename, 'r', encoding='latin1')\n",
        "    reader = csv.reader(f)\n",
        "    for idx, line in enumerate(reader):\n",
        "        if idx == 0:\n",
        "            continue\n",
        "\n",
        "        data.append(line[0])\n",
        "        label.append(int(line[2]))\n",
        "\n",
        "    f.close()\n",
        "\n",
        "    assert len(data) == len(label)\n",
        "    return data, label"
      ],
      "execution_count": null,
      "outputs": []
    },
    {
      "cell_type": "code",
      "metadata": {
        "id": "USBIeV1TybIv"
      },
      "source": [
        "imdb_data, imdb_label = load_data(imdb)"
      ],
      "execution_count": null,
      "outputs": []
    },
    {
      "cell_type": "code",
      "metadata": {
        "colab": {
          "base_uri": "https://localhost:8080/"
        },
        "id": "VjZNhURn4il1",
        "outputId": "3d654d43-fdc3-4ce9-f5f9-1b1dd55bfcae"
      },
      "source": [
        "print(\"Size of imdb data: {}\".format(len(imdb_data)))\n",
        "print(\"Size of imdb label: {}\".format(len(imdb_label)))"
      ],
      "execution_count": null,
      "outputs": [
        {
          "output_type": "stream",
          "text": [
            "Size of imdb data: 50000\n",
            "Size of imdb label: 50000\n"
          ],
          "name": "stdout"
        }
      ]
    },
    {
      "cell_type": "code",
      "metadata": {
        "id": "RL-P6sSM4uFX"
      },
      "source": [
        "from sklearn.model_selection import train_test_split\n",
        "\n",
        "train_data, test_data, train_label, test_label = train_test_split(imdb_data, imdb_label, test_size = 0.2, random_state = 42)"
      ],
      "execution_count": null,
      "outputs": []
    },
    {
      "cell_type": "code",
      "metadata": {
        "id": "43O3FuU7ybI0",
        "colab": {
          "base_uri": "https://localhost:8080/"
        },
        "outputId": "d710d57f-a510-43de-ce6f-f42e1a8cccef"
      },
      "source": [
        "print(\"Size of train data: {}\".format(len(train_data)))\n",
        "print(\"Size of train label: {}\".format(len(train_label)))"
      ],
      "execution_count": null,
      "outputs": [
        {
          "output_type": "stream",
          "text": [
            "Size of train data: 40000\n",
            "Size of train label: 40000\n"
          ],
          "name": "stdout"
        }
      ]
    },
    {
      "cell_type": "code",
      "metadata": {
        "id": "7Uq8AHTb48_r"
      },
      "source": [
        "import numpy as np\n",
        "test_data = np.array(test_data)\n",
        "test_label = np.array(test_label)"
      ],
      "execution_count": null,
      "outputs": []
    },
    {
      "cell_type": "code",
      "metadata": {
        "id": "Kks51eZ9ybJD",
        "colab": {
          "base_uri": "https://localhost:8080/"
        },
        "outputId": "d9265710-8b9a-43a9-89f9-5b1258f56167"
      },
      "source": [
        "from transformers import BertTokenizer\n",
        "\n",
        "print(\"Loading BERT tokenizer...\")\n",
        "tokenizer = BertTokenizer.from_pretrained('bert-base-uncased', do_lower_case=True)"
      ],
      "execution_count": null,
      "outputs": [
        {
          "output_type": "stream",
          "text": [
            "Loading BERT tokenizer...\n"
          ],
          "name": "stdout"
        }
      ]
    },
    {
      "cell_type": "code",
      "metadata": {
        "id": "VTwSHYz1ybJG",
        "colab": {
          "base_uri": "https://localhost:8080/"
        },
        "outputId": "acde120c-f885-4bdf-e340-dbf876d5be12"
      },
      "source": [
        "print(\"Original: \", train_data[0])\n",
        "print()\n",
        "\n",
        "print(\"Tokenized: \", tokenizer.tokenize(train_data[0]))\n",
        "print()\n",
        "\n",
        "print(\"Token IDs: \", tokenizer.convert_tokens_to_ids(tokenizer.tokenize(train_data[0])))\n",
        "print()"
      ],
      "execution_count": null,
      "outputs": [
        {
          "output_type": "stream",
          "text": [
            "Original:  That's what I kept asking myself during the many fights, screaming matches, swearing and general mayhem that permeate the 84 minutes. The comparisons also stand up when you think of the one-dimensional characters, who have so little depth that it is virtually impossible to care what happens to them. They are just badly written cyphers for the director to hang his multicultural beliefs on, a topic that has been done much better in other dramas both on TV and the cinema.<br /><br />I must confess, I'm not really one for spotting bad performances during a film, but it must be said that Nichola Burley (as the heroine's slutty best friend) and Wasim Zakir (as the nasty, bullying brother) were absolutely terrible. I don't know what acting school they graduated from, but if I was them I'd apply for a full refund post haste. Only Samina Awan in the lead role manages to impress in a cast of so-called British talent that we'll probably never hear from again. At least, that's the hope. Next time, hire a different scout.<br /><br />Another intriguing thought is the hideously fashionable soundtrack featuring the likes of Snow Patrol, Ian Brown and Keane. Now, I'm a bit of a music fan and I'm familiar with most of these artists output, but I didn't recognise any of the tracks during this movie (apart from the omnipresent \"Run\"). B-sides, anyone? We get many, many musical montages which telegraph how we're suppose to feel. These are accompanied by such startlingly original images as couples kissing by a swollen lake and canoodling in doorways. This is a problem, as none of the songs convey the mood efficiently, and we realise the director lacks the ability to carry the emotional journey to the audience through storytelling and dialogue alone.<br /><br />The ending is presumably meant to be just desserts, as everybody gets their comeuppance and there is at least one big shock in store.. But I remained resolutely unmoved because the script had given me no-one to root for. It's not enough to tackle a hot-button issue, you have to actually give us a plot that hasn't already been done to death and individuals who are more than window dressing. As it stands, this film is a noble failure, with only the promising lead actress and a few mildly diverting punch-ups to save it from the bin. 4/10. Must try harder..\n",
            "\n",
            "Tokenized:  ['that', \"'\", 's', 'what', 'i', 'kept', 'asking', 'myself', 'during', 'the', 'many', 'fights', ',', 'screaming', 'matches', ',', 'swearing', 'and', 'general', 'mayhem', 'that', 'per', '##me', '##ate', 'the', '84', 'minutes', '.', 'the', 'comparisons', 'also', 'stand', 'up', 'when', 'you', 'think', 'of', 'the', 'one', '-', 'dimensional', 'characters', ',', 'who', 'have', 'so', 'little', 'depth', 'that', 'it', 'is', 'virtually', 'impossible', 'to', 'care', 'what', 'happens', 'to', 'them', '.', 'they', 'are', 'just', 'badly', 'written', 'cy', '##pher', '##s', 'for', 'the', 'director', 'to', 'hang', 'his', 'multicultural', 'beliefs', 'on', ',', 'a', 'topic', 'that', 'has', 'been', 'done', 'much', 'better', 'in', 'other', 'dramas', 'both', 'on', 'tv', 'and', 'the', 'cinema', '.', '<', 'br', '/', '>', '<', 'br', '/', '>', 'i', 'must', 'confess', ',', 'i', \"'\", 'm', 'not', 'really', 'one', 'for', 'spotting', 'bad', 'performances', 'during', 'a', 'film', ',', 'but', 'it', 'must', 'be', 'said', 'that', 'nic', '##hol', '##a', 'bu', '##rley', '(', 'as', 'the', 'heroine', \"'\", 's', 'sl', '##ut', '##ty', 'best', 'friend', ')', 'and', 'was', '##im', 'za', '##kir', '(', 'as', 'the', 'nasty', ',', 'bullying', 'brother', ')', 'were', 'absolutely', 'terrible', '.', 'i', 'don', \"'\", 't', 'know', 'what', 'acting', 'school', 'they', 'graduated', 'from', ',', 'but', 'if', 'i', 'was', 'them', 'i', \"'\", 'd', 'apply', 'for', 'a', 'full', 'ref', '##und', 'post', 'haste', '.', 'only', 'sami', '##na', 'aw', '##an', 'in', 'the', 'lead', 'role', 'manages', 'to', 'impress', 'in', 'a', 'cast', 'of', 'so', '-', 'called', 'british', 'talent', 'that', 'we', \"'\", 'll', 'probably', 'never', 'hear', 'from', 'again', '.', 'at', 'least', ',', 'that', \"'\", 's', 'the', 'hope', '.', 'next', 'time', ',', 'hire', 'a', 'different', 'scout', '.', '<', 'br', '/', '>', '<', 'br', '/', '>', 'another', 'intriguing', 'thought', 'is', 'the', 'hideous', '##ly', 'fashionable', 'soundtrack', 'featuring', 'the', 'likes', 'of', 'snow', 'patrol', ',', 'ian', 'brown', 'and', 'keane', '.', 'now', ',', 'i', \"'\", 'm', 'a', 'bit', 'of', 'a', 'music', 'fan', 'and', 'i', \"'\", 'm', 'familiar', 'with', 'most', 'of', 'these', 'artists', 'output', ',', 'but', 'i', 'didn', \"'\", 't', 'recognise', 'any', 'of', 'the', 'tracks', 'during', 'this', 'movie', '(', 'apart', 'from', 'the', 'om', '##ni', '##pres', '##ent', '\"', 'run', '\"', ')', '.', 'b', '-', 'sides', ',', 'anyone', '?', 'we', 'get', 'many', ',', 'many', 'musical', 'mont', '##ages', 'which', 'telegraph', 'how', 'we', \"'\", 're', 'suppose', 'to', 'feel', '.', 'these', 'are', 'accompanied', 'by', 'such', 'startling', '##ly', 'original', 'images', 'as', 'couples', 'kissing', 'by', 'a', 'swollen', 'lake', 'and', 'can', '##ood', '##ling', 'in', 'doorway', '##s', '.', 'this', 'is', 'a', 'problem', ',', 'as', 'none', 'of', 'the', 'songs', 'convey', 'the', 'mood', 'efficiently', ',', 'and', 'we', 'realise', 'the', 'director', 'lacks', 'the', 'ability', 'to', 'carry', 'the', 'emotional', 'journey', 'to', 'the', 'audience', 'through', 'storytelling', 'and', 'dialogue', 'alone', '.', '<', 'br', '/', '>', '<', 'br', '/', '>', 'the', 'ending', 'is', 'presumably', 'meant', 'to', 'be', 'just', 'dessert', '##s', ',', 'as', 'everybody', 'gets', 'their', 'come', '##up', '##pan', '##ce', 'and', 'there', 'is', 'at', 'least', 'one', 'big', 'shock', 'in', 'store', '.', '.', 'but', 'i', 'remained', 'res', '##ol', '##ute', '##ly', 'un', '##mo', '##ved', 'because', 'the', 'script', 'had', 'given', 'me', 'no', '-', 'one', 'to', 'root', 'for', '.', 'it', \"'\", 's', 'not', 'enough', 'to', 'tackle', 'a', 'hot', '-', 'button', 'issue', ',', 'you', 'have', 'to', 'actually', 'give', 'us', 'a', 'plot', 'that', 'hasn', \"'\", 't', 'already', 'been', 'done', 'to', 'death', 'and', 'individuals', 'who', 'are', 'more', 'than', 'window', 'dressing', '.', 'as', 'it', 'stands', ',', 'this', 'film', 'is', 'a', 'noble', 'failure', ',', 'with', 'only', 'the', 'promising', 'lead', 'actress', 'and', 'a', 'few', 'mildly', 'divert', '##ing', 'punch', '-', 'ups', 'to', 'save', 'it', 'from', 'the', 'bin', '.', '4', '/', '10', '.', 'must', 'try', 'harder', '.', '.']\n",
            "\n",
            "Token IDs:  [2008, 1005, 1055, 2054, 1045, 2921, 4851, 2870, 2076, 1996, 2116, 9590, 1010, 7491, 3503, 1010, 25082, 1998, 2236, 26865, 2008, 2566, 4168, 3686, 1996, 6391, 2781, 1012, 1996, 18539, 2036, 3233, 2039, 2043, 2017, 2228, 1997, 1996, 2028, 1011, 8789, 3494, 1010, 2040, 2031, 2061, 2210, 5995, 2008, 2009, 2003, 8990, 5263, 2000, 2729, 2054, 6433, 2000, 2068, 1012, 2027, 2024, 2074, 6649, 2517, 22330, 27921, 2015, 2005, 1996, 2472, 2000, 6865, 2010, 27135, 9029, 2006, 1010, 1037, 8476, 2008, 2038, 2042, 2589, 2172, 2488, 1999, 2060, 16547, 2119, 2006, 2694, 1998, 1996, 5988, 1012, 1026, 7987, 1013, 1028, 1026, 7987, 1013, 1028, 1045, 2442, 18766, 1010, 1045, 1005, 1049, 2025, 2428, 2028, 2005, 27963, 2919, 4616, 2076, 1037, 2143, 1010, 2021, 2009, 2442, 2022, 2056, 2008, 27969, 14854, 2050, 20934, 12866, 1006, 2004, 1996, 18869, 1005, 1055, 22889, 4904, 3723, 2190, 2767, 1007, 1998, 2001, 5714, 23564, 23630, 1006, 2004, 1996, 11808, 1010, 18917, 2567, 1007, 2020, 7078, 6659, 1012, 1045, 2123, 1005, 1056, 2113, 2054, 3772, 2082, 2027, 3852, 2013, 1010, 2021, 2065, 1045, 2001, 2068, 1045, 1005, 1040, 6611, 2005, 1037, 2440, 25416, 8630, 2695, 24748, 1012, 2069, 17015, 2532, 22091, 2319, 1999, 1996, 2599, 2535, 9020, 2000, 17894, 1999, 1037, 3459, 1997, 2061, 1011, 2170, 2329, 5848, 2008, 2057, 1005, 2222, 2763, 2196, 2963, 2013, 2153, 1012, 2012, 2560, 1010, 2008, 1005, 1055, 1996, 3246, 1012, 2279, 2051, 1010, 10887, 1037, 2367, 7464, 1012, 1026, 7987, 1013, 1028, 1026, 7987, 1013, 1028, 2178, 23824, 2245, 2003, 1996, 22293, 2135, 19964, 6050, 3794, 1996, 7777, 1997, 4586, 6477, 1010, 4775, 2829, 1998, 27228, 1012, 2085, 1010, 1045, 1005, 1049, 1037, 2978, 1997, 1037, 2189, 5470, 1998, 1045, 1005, 1049, 5220, 2007, 2087, 1997, 2122, 3324, 6434, 1010, 2021, 1045, 2134, 1005, 1056, 17614, 2151, 1997, 1996, 3162, 2076, 2023, 3185, 1006, 4237, 2013, 1996, 18168, 3490, 28994, 4765, 1000, 2448, 1000, 1007, 1012, 1038, 1011, 3903, 1010, 3087, 1029, 2057, 2131, 2116, 1010, 2116, 3315, 18318, 13923, 2029, 10013, 2129, 2057, 1005, 2128, 6814, 2000, 2514, 1012, 2122, 2024, 5642, 2011, 2107, 19828, 2135, 2434, 4871, 2004, 6062, 7618, 2011, 1037, 13408, 2697, 1998, 2064, 17139, 2989, 1999, 7086, 2015, 1012, 2023, 2003, 1037, 3291, 1010, 2004, 3904, 1997, 1996, 2774, 16636, 1996, 6888, 18228, 1010, 1998, 2057, 19148, 1996, 2472, 14087, 1996, 3754, 2000, 4287, 1996, 6832, 4990, 2000, 1996, 4378, 2083, 20957, 1998, 7982, 2894, 1012, 1026, 7987, 1013, 1028, 1026, 7987, 1013, 1028, 1996, 4566, 2003, 10712, 3214, 2000, 2022, 2074, 18064, 2015, 1010, 2004, 7955, 4152, 2037, 2272, 6279, 9739, 3401, 1998, 2045, 2003, 2012, 2560, 2028, 2502, 5213, 1999, 3573, 1012, 1012, 2021, 1045, 2815, 24501, 4747, 10421, 2135, 4895, 5302, 7178, 2138, 1996, 5896, 2018, 2445, 2033, 2053, 1011, 2028, 2000, 7117, 2005, 1012, 2009, 1005, 1055, 2025, 2438, 2000, 11147, 1037, 2980, 1011, 6462, 3277, 1010, 2017, 2031, 2000, 2941, 2507, 2149, 1037, 5436, 2008, 8440, 1005, 1056, 2525, 2042, 2589, 2000, 2331, 1998, 3633, 2040, 2024, 2062, 2084, 3332, 11225, 1012, 2004, 2009, 4832, 1010, 2023, 2143, 2003, 1037, 7015, 4945, 1010, 2007, 2069, 1996, 10015, 2599, 3883, 1998, 1037, 2261, 19499, 27345, 2075, 8595, 1011, 11139, 2000, 3828, 2009, 2013, 1996, 8026, 1012, 1018, 1013, 2184, 1012, 2442, 3046, 6211, 1012, 1012]\n",
            "\n"
          ],
          "name": "stdout"
        }
      ]
    },
    {
      "cell_type": "code",
      "metadata": {
        "id": "qArPy88KybJM",
        "colab": {
          "base_uri": "https://localhost:8080/"
        },
        "outputId": "71063dc7-9972-48f2-f9a6-bc0a7d313ab0"
      },
      "source": [
        "input_ids = []\n",
        "\n",
        "for sent in train_data:\n",
        "    \n",
        "    encoded_sent = tokenizer.encode(sent, \n",
        "                                    add_special_tokens=True,\n",
        "                                    max_length = 256)\n",
        " \n",
        "    input_ids.append(encoded_sent)\n",
        "\n",
        "print(\"Original: \", train_data[0])\n",
        "print()\n",
        "print(\"Token IDs: \", input_ids[0])\n",
        "\n",
        "print(\"\\n[CLS] token: {:}, ID: {:}\".format(tokenizer.cls_token, tokenizer.cls_token_id))\n",
        "print(\"\\n[PAD] token: {:}, ID: {:}\".format(tokenizer.pad_token, tokenizer.pad_token_id))\n",
        "print(\"\\n[SEP] token: {:}, ID: {:}\".format(tokenizer.sep_token, tokenizer.sep_token_id))\n",
        "print(\"\\nTokenized: \", tokenizer.convert_ids_to_tokens(input_ids[0]))"
      ],
      "execution_count": null,
      "outputs": [
        {
          "output_type": "stream",
          "text": [
            "Truncation was not explicitly activated but `max_length` is provided a specific value, please use `truncation=True` to explicitly truncate examples to max length. Defaulting to 'longest_first' truncation strategy. If you encode pairs of sequences (GLUE-style) with the tokenizer you can select this strategy more precisely by providing a specific strategy to `truncation`.\n"
          ],
          "name": "stderr"
        },
        {
          "output_type": "stream",
          "text": [
            "Original:  That's what I kept asking myself during the many fights, screaming matches, swearing and general mayhem that permeate the 84 minutes. The comparisons also stand up when you think of the one-dimensional characters, who have so little depth that it is virtually impossible to care what happens to them. They are just badly written cyphers for the director to hang his multicultural beliefs on, a topic that has been done much better in other dramas both on TV and the cinema.<br /><br />I must confess, I'm not really one for spotting bad performances during a film, but it must be said that Nichola Burley (as the heroine's slutty best friend) and Wasim Zakir (as the nasty, bullying brother) were absolutely terrible. I don't know what acting school they graduated from, but if I was them I'd apply for a full refund post haste. Only Samina Awan in the lead role manages to impress in a cast of so-called British talent that we'll probably never hear from again. At least, that's the hope. Next time, hire a different scout.<br /><br />Another intriguing thought is the hideously fashionable soundtrack featuring the likes of Snow Patrol, Ian Brown and Keane. Now, I'm a bit of a music fan and I'm familiar with most of these artists output, but I didn't recognise any of the tracks during this movie (apart from the omnipresent \"Run\"). B-sides, anyone? We get many, many musical montages which telegraph how we're suppose to feel. These are accompanied by such startlingly original images as couples kissing by a swollen lake and canoodling in doorways. This is a problem, as none of the songs convey the mood efficiently, and we realise the director lacks the ability to carry the emotional journey to the audience through storytelling and dialogue alone.<br /><br />The ending is presumably meant to be just desserts, as everybody gets their comeuppance and there is at least one big shock in store.. But I remained resolutely unmoved because the script had given me no-one to root for. It's not enough to tackle a hot-button issue, you have to actually give us a plot that hasn't already been done to death and individuals who are more than window dressing. As it stands, this film is a noble failure, with only the promising lead actress and a few mildly diverting punch-ups to save it from the bin. 4/10. Must try harder..\n",
            "\n",
            "Token IDs:  [101, 2008, 1005, 1055, 2054, 1045, 2921, 4851, 2870, 2076, 1996, 2116, 9590, 1010, 7491, 3503, 1010, 25082, 1998, 2236, 26865, 2008, 2566, 4168, 3686, 1996, 6391, 2781, 1012, 1996, 18539, 2036, 3233, 2039, 2043, 2017, 2228, 1997, 1996, 2028, 1011, 8789, 3494, 1010, 2040, 2031, 2061, 2210, 5995, 2008, 2009, 2003, 8990, 5263, 2000, 2729, 2054, 6433, 2000, 2068, 1012, 2027, 2024, 2074, 6649, 2517, 22330, 27921, 2015, 2005, 1996, 2472, 2000, 6865, 2010, 27135, 9029, 2006, 1010, 1037, 8476, 2008, 2038, 2042, 2589, 2172, 2488, 1999, 2060, 16547, 2119, 2006, 2694, 1998, 1996, 5988, 1012, 1026, 7987, 1013, 1028, 1026, 7987, 1013, 1028, 1045, 2442, 18766, 1010, 1045, 1005, 1049, 2025, 2428, 2028, 2005, 27963, 2919, 4616, 2076, 1037, 2143, 1010, 2021, 2009, 2442, 2022, 2056, 2008, 27969, 14854, 2050, 20934, 12866, 1006, 2004, 1996, 18869, 1005, 1055, 22889, 4904, 3723, 2190, 2767, 1007, 1998, 2001, 5714, 23564, 23630, 1006, 2004, 1996, 11808, 1010, 18917, 2567, 1007, 2020, 7078, 6659, 1012, 1045, 2123, 1005, 1056, 2113, 2054, 3772, 2082, 2027, 3852, 2013, 1010, 2021, 2065, 1045, 2001, 2068, 1045, 1005, 1040, 6611, 2005, 1037, 2440, 25416, 8630, 2695, 24748, 1012, 2069, 17015, 2532, 22091, 2319, 1999, 1996, 2599, 2535, 9020, 2000, 17894, 1999, 1037, 3459, 1997, 2061, 1011, 2170, 2329, 5848, 2008, 2057, 1005, 2222, 2763, 2196, 2963, 2013, 2153, 1012, 2012, 2560, 1010, 2008, 1005, 1055, 1996, 3246, 1012, 2279, 2051, 1010, 10887, 1037, 2367, 7464, 1012, 1026, 7987, 1013, 1028, 1026, 7987, 1013, 1028, 2178, 23824, 2245, 2003, 1996, 22293, 2135, 102]\n",
            "\n",
            "[CLS] token: [CLS], ID: 101\n",
            "\n",
            "[PAD] token: [PAD], ID: 0\n",
            "\n",
            "[SEP] token: [SEP], ID: 102\n",
            "\n",
            "Tokenized:  ['[CLS]', 'that', \"'\", 's', 'what', 'i', 'kept', 'asking', 'myself', 'during', 'the', 'many', 'fights', ',', 'screaming', 'matches', ',', 'swearing', 'and', 'general', 'mayhem', 'that', 'per', '##me', '##ate', 'the', '84', 'minutes', '.', 'the', 'comparisons', 'also', 'stand', 'up', 'when', 'you', 'think', 'of', 'the', 'one', '-', 'dimensional', 'characters', ',', 'who', 'have', 'so', 'little', 'depth', 'that', 'it', 'is', 'virtually', 'impossible', 'to', 'care', 'what', 'happens', 'to', 'them', '.', 'they', 'are', 'just', 'badly', 'written', 'cy', '##pher', '##s', 'for', 'the', 'director', 'to', 'hang', 'his', 'multicultural', 'beliefs', 'on', ',', 'a', 'topic', 'that', 'has', 'been', 'done', 'much', 'better', 'in', 'other', 'dramas', 'both', 'on', 'tv', 'and', 'the', 'cinema', '.', '<', 'br', '/', '>', '<', 'br', '/', '>', 'i', 'must', 'confess', ',', 'i', \"'\", 'm', 'not', 'really', 'one', 'for', 'spotting', 'bad', 'performances', 'during', 'a', 'film', ',', 'but', 'it', 'must', 'be', 'said', 'that', 'nic', '##hol', '##a', 'bu', '##rley', '(', 'as', 'the', 'heroine', \"'\", 's', 'sl', '##ut', '##ty', 'best', 'friend', ')', 'and', 'was', '##im', 'za', '##kir', '(', 'as', 'the', 'nasty', ',', 'bullying', 'brother', ')', 'were', 'absolutely', 'terrible', '.', 'i', 'don', \"'\", 't', 'know', 'what', 'acting', 'school', 'they', 'graduated', 'from', ',', 'but', 'if', 'i', 'was', 'them', 'i', \"'\", 'd', 'apply', 'for', 'a', 'full', 'ref', '##und', 'post', 'haste', '.', 'only', 'sami', '##na', 'aw', '##an', 'in', 'the', 'lead', 'role', 'manages', 'to', 'impress', 'in', 'a', 'cast', 'of', 'so', '-', 'called', 'british', 'talent', 'that', 'we', \"'\", 'll', 'probably', 'never', 'hear', 'from', 'again', '.', 'at', 'least', ',', 'that', \"'\", 's', 'the', 'hope', '.', 'next', 'time', ',', 'hire', 'a', 'different', 'scout', '.', '<', 'br', '/', '>', '<', 'br', '/', '>', 'another', 'intriguing', 'thought', 'is', 'the', 'hideous', '##ly', '[SEP]']\n"
          ],
          "name": "stdout"
        }
      ]
    },
    {
      "cell_type": "code",
      "metadata": {
        "id": "qvi1_q33ybJQ",
        "colab": {
          "base_uri": "https://localhost:8080/"
        },
        "outputId": "4a46fde2-faf0-4988-ee56-8ca014727f6e"
      },
      "source": [
        "print(\"Max length: \", max([len(each) for each in input_ids]))"
      ],
      "execution_count": null,
      "outputs": [
        {
          "output_type": "stream",
          "text": [
            "Max length:  256\n"
          ],
          "name": "stdout"
        }
      ]
    },
    {
      "cell_type": "code",
      "metadata": {
        "id": "cTelEtVNybJV",
        "colab": {
          "base_uri": "https://localhost:8080/"
        },
        "outputId": "3ec6e5ee-6f2c-4820-ccee-3c86950538c4"
      },
      "source": [
        "import tensorflow as tf\n",
        "print(\"Tensorflow version: {}\".format(tf.__version__))\n",
        "\n",
        "MAXLEN = 256\n",
        "\n",
        "input_ids = tf.keras.preprocessing.sequence.pad_sequences(input_ids, \n",
        "                                                          maxlen=MAXLEN, dtype=\"long\", value=0, truncating=\"post\", padding=\"post\")\n",
        "\n",
        "print(\"\\nDone.\")"
      ],
      "execution_count": null,
      "outputs": [
        {
          "output_type": "stream",
          "text": [
            "Tensorflow version: 2.4.1\n",
            "\n",
            "Done.\n"
          ],
          "name": "stdout"
        }
      ]
    },
    {
      "cell_type": "code",
      "metadata": {
        "id": "maKvU-KKybJZ"
      },
      "source": [
        "attention_masks = []\n",
        "\n",
        "for sent in input_ids:\n",
        "\n",
        "    att_mask = [int(token_id > 0) for token_id in sent]\n",
        "\n",
        "    attention_masks.append(att_mask)"
      ],
      "execution_count": null,
      "outputs": []
    },
    {
      "cell_type": "code",
      "metadata": {
        "id": "oTLBXYLTybJg",
        "colab": {
          "base_uri": "https://localhost:8080/"
        },
        "outputId": "8791ad37-3e3d-4244-d236-163961cc5d24"
      },
      "source": [
        "from sklearn.model_selection import train_test_split\n",
        "\n",
        "train_inputs, valid_inputs, train_labels, valid_labels = train_test_split(input_ids, train_label, random_state=2018, test_size=0.1)\n",
        "\n",
        "train_masks, valid_masks, _, _ = train_test_split(attention_masks, train_label, random_state=2018, test_size=0.1)\n",
        "\n",
        "print(train_inputs[:1])\n",
        "print(train_masks[:1])"
      ],
      "execution_count": null,
      "outputs": [
        {
          "output_type": "stream",
          "text": [
            "[[  101  1045  1005  2310  3866  2023  3185  2144  1996  2034  2051  1045\n",
            "   2387  2009  8840  2122  2116  2086  3283  1012  1045  1005  1049  2025\n",
            "   2469  2129  2116  2335  1045  1005  2310  2464  2009  1010  3383  2184\n",
            "   1010  3383  2322  1012  2023  2197  2051  1045  3427  2009  1045  2001\n",
            "   4930  2011  1037  6987  2008  1045  2910  1005  1056  4384  2077  1012\n",
            "   1026  7987  1013  1028  1026  7987  1013  1028  2646  1996  2203  1997\n",
            "   1996  3861  1010  1996 19668  7348  2024 21527  2067  2000  1996  2237\n",
            "   3081 22889  2098  1012  2045  2024  1037  3232  1997  2485 22264  1997\n",
            "   1996  2757  2273  1012  1996  2028  2008  4930  2033  2087  2001  1037\n",
            "   2915  1997  1996  8855  3360  1012  2035  2017  2156  2006  1996  3898\n",
            "   2003  2010  6337  2013  2132  2000  2398  1012  2010  2398  2024  3173\n",
            "   1037 20046 13541  1012  1996  3612  2003 11221  1998  2010  4317  8855\n",
            "   2606  2003  5613  1999  1996  3612  1010  1999  8694  2007  1996 17909\n",
            "   1997  1996 13541  8457  1012  1996  5688  2090  2331  1998  1996  2166\n",
            "   2002  2038  2439  2003 11757  3928  1012  1996  3048  2606  1998 13541\n",
            "   8457 10825  2149  1997  1996  2166  2486  2008  2320  9613  2010  2303\n",
            "   1012  1026  7987  1013  1028  1026  7987  1013  1028  2296  2051  1045\n",
            "   7065 17417  2102  2023  2143  1045  2156  2242  2047  1012   102     0\n",
            "      0     0     0     0     0     0     0     0     0     0     0     0\n",
            "      0     0     0     0     0     0     0     0     0     0     0     0\n",
            "      0     0     0     0     0     0     0     0     0     0     0     0\n",
            "      0     0     0     0]]\n",
            "[[1, 1, 1, 1, 1, 1, 1, 1, 1, 1, 1, 1, 1, 1, 1, 1, 1, 1, 1, 1, 1, 1, 1, 1, 1, 1, 1, 1, 1, 1, 1, 1, 1, 1, 1, 1, 1, 1, 1, 1, 1, 1, 1, 1, 1, 1, 1, 1, 1, 1, 1, 1, 1, 1, 1, 1, 1, 1, 1, 1, 1, 1, 1, 1, 1, 1, 1, 1, 1, 1, 1, 1, 1, 1, 1, 1, 1, 1, 1, 1, 1, 1, 1, 1, 1, 1, 1, 1, 1, 1, 1, 1, 1, 1, 1, 1, 1, 1, 1, 1, 1, 1, 1, 1, 1, 1, 1, 1, 1, 1, 1, 1, 1, 1, 1, 1, 1, 1, 1, 1, 1, 1, 1, 1, 1, 1, 1, 1, 1, 1, 1, 1, 1, 1, 1, 1, 1, 1, 1, 1, 1, 1, 1, 1, 1, 1, 1, 1, 1, 1, 1, 1, 1, 1, 1, 1, 1, 1, 1, 1, 1, 1, 1, 1, 1, 1, 1, 1, 1, 1, 1, 1, 1, 1, 1, 1, 1, 1, 1, 1, 1, 1, 1, 1, 1, 1, 1, 1, 1, 1, 1, 1, 1, 1, 1, 1, 1, 1, 1, 1, 1, 1, 1, 1, 1, 1, 1, 1, 1, 1, 1, 1, 1, 1, 1, 0, 0, 0, 0, 0, 0, 0, 0, 0, 0, 0, 0, 0, 0, 0, 0, 0, 0, 0, 0, 0, 0, 0, 0, 0, 0, 0, 0, 0, 0, 0, 0, 0, 0, 0, 0, 0, 0, 0, 0, 0]]\n"
          ],
          "name": "stdout"
        }
      ]
    },
    {
      "cell_type": "code",
      "metadata": {
        "id": "5hFzBxvyybJk"
      },
      "source": [
        "train_inputs = torch.tensor(train_inputs)\n",
        "valid_inputs = torch.tensor(valid_inputs)\n",
        "\n",
        "train_labels = torch.tensor(train_labels)\n",
        "valid_labels = torch.tensor(valid_labels)\n",
        "\n",
        "train_masks = torch.tensor(train_masks)\n",
        "valid_masks = torch.tensor(valid_masks)"
      ],
      "execution_count": null,
      "outputs": []
    },
    {
      "cell_type": "code",
      "metadata": {
        "id": "xhbYgxdvybJq"
      },
      "source": [
        "from torch.utils.data import TensorDataset, DataLoader, RandomSampler, SequentialSampler\n",
        "\n",
        "batch_size = 32\n",
        "\n",
        "train_data = TensorDataset(train_inputs, train_masks, train_labels)\n",
        "train_sampler = RandomSampler(train_data)\n",
        "train_dataloader = DataLoader(train_data, sampler=train_sampler, batch_size=batch_size)\n",
        "\n",
        "valid_data = TensorDataset(valid_inputs, valid_masks, valid_labels)\n",
        "valid_sampler = SequentialSampler(valid_data)\n",
        "valid_dataloader = DataLoader(valid_data, sampler=valid_sampler, batch_size=batch_size)"
      ],
      "execution_count": null,
      "outputs": []
    },
    {
      "cell_type": "code",
      "metadata": {
        "id": "V7JYZMxEybJx",
        "colab": {
          "base_uri": "https://localhost:8080/"
        },
        "outputId": "ce1b5492-6712-4f55-ed76-673a1e9d868e"
      },
      "source": [
        "from transformers import BertForSequenceClassification, AdamW, BertConfig\n",
        "\n",
        "model = BertForSequenceClassification.from_pretrained(\"bert-base-uncased\", \n",
        "                                                      num_labels = 2, \n",
        "                                                                      \n",
        "                                                      output_attentions = False, \n",
        "                                                      output_hidden_states = False) \n",
        "\n",
        "model.cuda()"
      ],
      "execution_count": null,
      "outputs": [
        {
          "output_type": "stream",
          "text": [
            "Some weights of the model checkpoint at bert-base-uncased were not used when initializing BertForSequenceClassification: ['cls.predictions.bias', 'cls.predictions.transform.dense.weight', 'cls.predictions.transform.dense.bias', 'cls.predictions.decoder.weight', 'cls.seq_relationship.weight', 'cls.seq_relationship.bias', 'cls.predictions.transform.LayerNorm.weight', 'cls.predictions.transform.LayerNorm.bias']\n",
            "- This IS expected if you are initializing BertForSequenceClassification from the checkpoint of a model trained on another task or with another architecture (e.g. initializing a BertForSequenceClassification model from a BertForPreTraining model).\n",
            "- This IS NOT expected if you are initializing BertForSequenceClassification from the checkpoint of a model that you expect to be exactly identical (initializing a BertForSequenceClassification model from a BertForSequenceClassification model).\n",
            "Some weights of BertForSequenceClassification were not initialized from the model checkpoint at bert-base-uncased and are newly initialized: ['classifier.weight', 'classifier.bias']\n",
            "You should probably TRAIN this model on a down-stream task to be able to use it for predictions and inference.\n"
          ],
          "name": "stderr"
        },
        {
          "output_type": "execute_result",
          "data": {
            "text/plain": [
              "BertForSequenceClassification(\n",
              "  (bert): BertModel(\n",
              "    (embeddings): BertEmbeddings(\n",
              "      (word_embeddings): Embedding(30522, 768, padding_idx=0)\n",
              "      (position_embeddings): Embedding(512, 768)\n",
              "      (token_type_embeddings): Embedding(2, 768)\n",
              "      (LayerNorm): LayerNorm((768,), eps=1e-12, elementwise_affine=True)\n",
              "      (dropout): Dropout(p=0.1, inplace=False)\n",
              "    )\n",
              "    (encoder): BertEncoder(\n",
              "      (layer): ModuleList(\n",
              "        (0): BertLayer(\n",
              "          (attention): BertAttention(\n",
              "            (self): BertSelfAttention(\n",
              "              (query): Linear(in_features=768, out_features=768, bias=True)\n",
              "              (key): Linear(in_features=768, out_features=768, bias=True)\n",
              "              (value): Linear(in_features=768, out_features=768, bias=True)\n",
              "              (dropout): Dropout(p=0.1, inplace=False)\n",
              "            )\n",
              "            (output): BertSelfOutput(\n",
              "              (dense): Linear(in_features=768, out_features=768, bias=True)\n",
              "              (LayerNorm): LayerNorm((768,), eps=1e-12, elementwise_affine=True)\n",
              "              (dropout): Dropout(p=0.1, inplace=False)\n",
              "            )\n",
              "          )\n",
              "          (intermediate): BertIntermediate(\n",
              "            (dense): Linear(in_features=768, out_features=3072, bias=True)\n",
              "          )\n",
              "          (output): BertOutput(\n",
              "            (dense): Linear(in_features=3072, out_features=768, bias=True)\n",
              "            (LayerNorm): LayerNorm((768,), eps=1e-12, elementwise_affine=True)\n",
              "            (dropout): Dropout(p=0.1, inplace=False)\n",
              "          )\n",
              "        )\n",
              "        (1): BertLayer(\n",
              "          (attention): BertAttention(\n",
              "            (self): BertSelfAttention(\n",
              "              (query): Linear(in_features=768, out_features=768, bias=True)\n",
              "              (key): Linear(in_features=768, out_features=768, bias=True)\n",
              "              (value): Linear(in_features=768, out_features=768, bias=True)\n",
              "              (dropout): Dropout(p=0.1, inplace=False)\n",
              "            )\n",
              "            (output): BertSelfOutput(\n",
              "              (dense): Linear(in_features=768, out_features=768, bias=True)\n",
              "              (LayerNorm): LayerNorm((768,), eps=1e-12, elementwise_affine=True)\n",
              "              (dropout): Dropout(p=0.1, inplace=False)\n",
              "            )\n",
              "          )\n",
              "          (intermediate): BertIntermediate(\n",
              "            (dense): Linear(in_features=768, out_features=3072, bias=True)\n",
              "          )\n",
              "          (output): BertOutput(\n",
              "            (dense): Linear(in_features=3072, out_features=768, bias=True)\n",
              "            (LayerNorm): LayerNorm((768,), eps=1e-12, elementwise_affine=True)\n",
              "            (dropout): Dropout(p=0.1, inplace=False)\n",
              "          )\n",
              "        )\n",
              "        (2): BertLayer(\n",
              "          (attention): BertAttention(\n",
              "            (self): BertSelfAttention(\n",
              "              (query): Linear(in_features=768, out_features=768, bias=True)\n",
              "              (key): Linear(in_features=768, out_features=768, bias=True)\n",
              "              (value): Linear(in_features=768, out_features=768, bias=True)\n",
              "              (dropout): Dropout(p=0.1, inplace=False)\n",
              "            )\n",
              "            (output): BertSelfOutput(\n",
              "              (dense): Linear(in_features=768, out_features=768, bias=True)\n",
              "              (LayerNorm): LayerNorm((768,), eps=1e-12, elementwise_affine=True)\n",
              "              (dropout): Dropout(p=0.1, inplace=False)\n",
              "            )\n",
              "          )\n",
              "          (intermediate): BertIntermediate(\n",
              "            (dense): Linear(in_features=768, out_features=3072, bias=True)\n",
              "          )\n",
              "          (output): BertOutput(\n",
              "            (dense): Linear(in_features=3072, out_features=768, bias=True)\n",
              "            (LayerNorm): LayerNorm((768,), eps=1e-12, elementwise_affine=True)\n",
              "            (dropout): Dropout(p=0.1, inplace=False)\n",
              "          )\n",
              "        )\n",
              "        (3): BertLayer(\n",
              "          (attention): BertAttention(\n",
              "            (self): BertSelfAttention(\n",
              "              (query): Linear(in_features=768, out_features=768, bias=True)\n",
              "              (key): Linear(in_features=768, out_features=768, bias=True)\n",
              "              (value): Linear(in_features=768, out_features=768, bias=True)\n",
              "              (dropout): Dropout(p=0.1, inplace=False)\n",
              "            )\n",
              "            (output): BertSelfOutput(\n",
              "              (dense): Linear(in_features=768, out_features=768, bias=True)\n",
              "              (LayerNorm): LayerNorm((768,), eps=1e-12, elementwise_affine=True)\n",
              "              (dropout): Dropout(p=0.1, inplace=False)\n",
              "            )\n",
              "          )\n",
              "          (intermediate): BertIntermediate(\n",
              "            (dense): Linear(in_features=768, out_features=3072, bias=True)\n",
              "          )\n",
              "          (output): BertOutput(\n",
              "            (dense): Linear(in_features=3072, out_features=768, bias=True)\n",
              "            (LayerNorm): LayerNorm((768,), eps=1e-12, elementwise_affine=True)\n",
              "            (dropout): Dropout(p=0.1, inplace=False)\n",
              "          )\n",
              "        )\n",
              "        (4): BertLayer(\n",
              "          (attention): BertAttention(\n",
              "            (self): BertSelfAttention(\n",
              "              (query): Linear(in_features=768, out_features=768, bias=True)\n",
              "              (key): Linear(in_features=768, out_features=768, bias=True)\n",
              "              (value): Linear(in_features=768, out_features=768, bias=True)\n",
              "              (dropout): Dropout(p=0.1, inplace=False)\n",
              "            )\n",
              "            (output): BertSelfOutput(\n",
              "              (dense): Linear(in_features=768, out_features=768, bias=True)\n",
              "              (LayerNorm): LayerNorm((768,), eps=1e-12, elementwise_affine=True)\n",
              "              (dropout): Dropout(p=0.1, inplace=False)\n",
              "            )\n",
              "          )\n",
              "          (intermediate): BertIntermediate(\n",
              "            (dense): Linear(in_features=768, out_features=3072, bias=True)\n",
              "          )\n",
              "          (output): BertOutput(\n",
              "            (dense): Linear(in_features=3072, out_features=768, bias=True)\n",
              "            (LayerNorm): LayerNorm((768,), eps=1e-12, elementwise_affine=True)\n",
              "            (dropout): Dropout(p=0.1, inplace=False)\n",
              "          )\n",
              "        )\n",
              "        (5): BertLayer(\n",
              "          (attention): BertAttention(\n",
              "            (self): BertSelfAttention(\n",
              "              (query): Linear(in_features=768, out_features=768, bias=True)\n",
              "              (key): Linear(in_features=768, out_features=768, bias=True)\n",
              "              (value): Linear(in_features=768, out_features=768, bias=True)\n",
              "              (dropout): Dropout(p=0.1, inplace=False)\n",
              "            )\n",
              "            (output): BertSelfOutput(\n",
              "              (dense): Linear(in_features=768, out_features=768, bias=True)\n",
              "              (LayerNorm): LayerNorm((768,), eps=1e-12, elementwise_affine=True)\n",
              "              (dropout): Dropout(p=0.1, inplace=False)\n",
              "            )\n",
              "          )\n",
              "          (intermediate): BertIntermediate(\n",
              "            (dense): Linear(in_features=768, out_features=3072, bias=True)\n",
              "          )\n",
              "          (output): BertOutput(\n",
              "            (dense): Linear(in_features=3072, out_features=768, bias=True)\n",
              "            (LayerNorm): LayerNorm((768,), eps=1e-12, elementwise_affine=True)\n",
              "            (dropout): Dropout(p=0.1, inplace=False)\n",
              "          )\n",
              "        )\n",
              "        (6): BertLayer(\n",
              "          (attention): BertAttention(\n",
              "            (self): BertSelfAttention(\n",
              "              (query): Linear(in_features=768, out_features=768, bias=True)\n",
              "              (key): Linear(in_features=768, out_features=768, bias=True)\n",
              "              (value): Linear(in_features=768, out_features=768, bias=True)\n",
              "              (dropout): Dropout(p=0.1, inplace=False)\n",
              "            )\n",
              "            (output): BertSelfOutput(\n",
              "              (dense): Linear(in_features=768, out_features=768, bias=True)\n",
              "              (LayerNorm): LayerNorm((768,), eps=1e-12, elementwise_affine=True)\n",
              "              (dropout): Dropout(p=0.1, inplace=False)\n",
              "            )\n",
              "          )\n",
              "          (intermediate): BertIntermediate(\n",
              "            (dense): Linear(in_features=768, out_features=3072, bias=True)\n",
              "          )\n",
              "          (output): BertOutput(\n",
              "            (dense): Linear(in_features=3072, out_features=768, bias=True)\n",
              "            (LayerNorm): LayerNorm((768,), eps=1e-12, elementwise_affine=True)\n",
              "            (dropout): Dropout(p=0.1, inplace=False)\n",
              "          )\n",
              "        )\n",
              "        (7): BertLayer(\n",
              "          (attention): BertAttention(\n",
              "            (self): BertSelfAttention(\n",
              "              (query): Linear(in_features=768, out_features=768, bias=True)\n",
              "              (key): Linear(in_features=768, out_features=768, bias=True)\n",
              "              (value): Linear(in_features=768, out_features=768, bias=True)\n",
              "              (dropout): Dropout(p=0.1, inplace=False)\n",
              "            )\n",
              "            (output): BertSelfOutput(\n",
              "              (dense): Linear(in_features=768, out_features=768, bias=True)\n",
              "              (LayerNorm): LayerNorm((768,), eps=1e-12, elementwise_affine=True)\n",
              "              (dropout): Dropout(p=0.1, inplace=False)\n",
              "            )\n",
              "          )\n",
              "          (intermediate): BertIntermediate(\n",
              "            (dense): Linear(in_features=768, out_features=3072, bias=True)\n",
              "          )\n",
              "          (output): BertOutput(\n",
              "            (dense): Linear(in_features=3072, out_features=768, bias=True)\n",
              "            (LayerNorm): LayerNorm((768,), eps=1e-12, elementwise_affine=True)\n",
              "            (dropout): Dropout(p=0.1, inplace=False)\n",
              "          )\n",
              "        )\n",
              "        (8): BertLayer(\n",
              "          (attention): BertAttention(\n",
              "            (self): BertSelfAttention(\n",
              "              (query): Linear(in_features=768, out_features=768, bias=True)\n",
              "              (key): Linear(in_features=768, out_features=768, bias=True)\n",
              "              (value): Linear(in_features=768, out_features=768, bias=True)\n",
              "              (dropout): Dropout(p=0.1, inplace=False)\n",
              "            )\n",
              "            (output): BertSelfOutput(\n",
              "              (dense): Linear(in_features=768, out_features=768, bias=True)\n",
              "              (LayerNorm): LayerNorm((768,), eps=1e-12, elementwise_affine=True)\n",
              "              (dropout): Dropout(p=0.1, inplace=False)\n",
              "            )\n",
              "          )\n",
              "          (intermediate): BertIntermediate(\n",
              "            (dense): Linear(in_features=768, out_features=3072, bias=True)\n",
              "          )\n",
              "          (output): BertOutput(\n",
              "            (dense): Linear(in_features=3072, out_features=768, bias=True)\n",
              "            (LayerNorm): LayerNorm((768,), eps=1e-12, elementwise_affine=True)\n",
              "            (dropout): Dropout(p=0.1, inplace=False)\n",
              "          )\n",
              "        )\n",
              "        (9): BertLayer(\n",
              "          (attention): BertAttention(\n",
              "            (self): BertSelfAttention(\n",
              "              (query): Linear(in_features=768, out_features=768, bias=True)\n",
              "              (key): Linear(in_features=768, out_features=768, bias=True)\n",
              "              (value): Linear(in_features=768, out_features=768, bias=True)\n",
              "              (dropout): Dropout(p=0.1, inplace=False)\n",
              "            )\n",
              "            (output): BertSelfOutput(\n",
              "              (dense): Linear(in_features=768, out_features=768, bias=True)\n",
              "              (LayerNorm): LayerNorm((768,), eps=1e-12, elementwise_affine=True)\n",
              "              (dropout): Dropout(p=0.1, inplace=False)\n",
              "            )\n",
              "          )\n",
              "          (intermediate): BertIntermediate(\n",
              "            (dense): Linear(in_features=768, out_features=3072, bias=True)\n",
              "          )\n",
              "          (output): BertOutput(\n",
              "            (dense): Linear(in_features=3072, out_features=768, bias=True)\n",
              "            (LayerNorm): LayerNorm((768,), eps=1e-12, elementwise_affine=True)\n",
              "            (dropout): Dropout(p=0.1, inplace=False)\n",
              "          )\n",
              "        )\n",
              "        (10): BertLayer(\n",
              "          (attention): BertAttention(\n",
              "            (self): BertSelfAttention(\n",
              "              (query): Linear(in_features=768, out_features=768, bias=True)\n",
              "              (key): Linear(in_features=768, out_features=768, bias=True)\n",
              "              (value): Linear(in_features=768, out_features=768, bias=True)\n",
              "              (dropout): Dropout(p=0.1, inplace=False)\n",
              "            )\n",
              "            (output): BertSelfOutput(\n",
              "              (dense): Linear(in_features=768, out_features=768, bias=True)\n",
              "              (LayerNorm): LayerNorm((768,), eps=1e-12, elementwise_affine=True)\n",
              "              (dropout): Dropout(p=0.1, inplace=False)\n",
              "            )\n",
              "          )\n",
              "          (intermediate): BertIntermediate(\n",
              "            (dense): Linear(in_features=768, out_features=3072, bias=True)\n",
              "          )\n",
              "          (output): BertOutput(\n",
              "            (dense): Linear(in_features=3072, out_features=768, bias=True)\n",
              "            (LayerNorm): LayerNorm((768,), eps=1e-12, elementwise_affine=True)\n",
              "            (dropout): Dropout(p=0.1, inplace=False)\n",
              "          )\n",
              "        )\n",
              "        (11): BertLayer(\n",
              "          (attention): BertAttention(\n",
              "            (self): BertSelfAttention(\n",
              "              (query): Linear(in_features=768, out_features=768, bias=True)\n",
              "              (key): Linear(in_features=768, out_features=768, bias=True)\n",
              "              (value): Linear(in_features=768, out_features=768, bias=True)\n",
              "              (dropout): Dropout(p=0.1, inplace=False)\n",
              "            )\n",
              "            (output): BertSelfOutput(\n",
              "              (dense): Linear(in_features=768, out_features=768, bias=True)\n",
              "              (LayerNorm): LayerNorm((768,), eps=1e-12, elementwise_affine=True)\n",
              "              (dropout): Dropout(p=0.1, inplace=False)\n",
              "            )\n",
              "          )\n",
              "          (intermediate): BertIntermediate(\n",
              "            (dense): Linear(in_features=768, out_features=3072, bias=True)\n",
              "          )\n",
              "          (output): BertOutput(\n",
              "            (dense): Linear(in_features=3072, out_features=768, bias=True)\n",
              "            (LayerNorm): LayerNorm((768,), eps=1e-12, elementwise_affine=True)\n",
              "            (dropout): Dropout(p=0.1, inplace=False)\n",
              "          )\n",
              "        )\n",
              "      )\n",
              "    )\n",
              "    (pooler): BertPooler(\n",
              "      (dense): Linear(in_features=768, out_features=768, bias=True)\n",
              "      (activation): Tanh()\n",
              "    )\n",
              "  )\n",
              "  (dropout): Dropout(p=0.1, inplace=False)\n",
              "  (classifier): Linear(in_features=768, out_features=2, bias=True)\n",
              ")"
            ]
          },
          "metadata": {
            "tags": []
          },
          "execution_count": 27
        }
      ]
    },
    {
      "cell_type": "code",
      "metadata": {
        "id": "GN8StKalybJ5"
      },
      "source": [
        "optimizer = AdamW(model.parameters(), lr = 2e-5, eps = 1e-8)"
      ],
      "execution_count": null,
      "outputs": []
    },
    {
      "cell_type": "code",
      "metadata": {
        "id": "dvTMmRTvybJ8",
        "colab": {
          "base_uri": "https://localhost:8080/"
        },
        "outputId": "f127771a-f70f-48f0-d1c3-c223346d85c8"
      },
      "source": [
        "from transformers import get_linear_schedule_with_warmup\n",
        "\n",
        "epochs = 4\n",
        "\n",
        "print(len(train_dataloader))\n",
        "total_steps = len(train_dataloader) * epochs\n",
        "\n",
        "scheduler = get_linear_schedule_with_warmup(optimizer, num_warmup_steps = 0, num_training_steps = total_steps)"
      ],
      "execution_count": null,
      "outputs": [
        {
          "output_type": "stream",
          "text": [
            "1125\n"
          ],
          "name": "stdout"
        }
      ]
    },
    {
      "cell_type": "code",
      "metadata": {
        "id": "Pigy1CqrybKA"
      },
      "source": [
        "def flat_accuracy(preds, labels):\n",
        "    pred_flat = np.argmax(preds, axis=-1).flatten()\n",
        "    labels_flat = labels.flatten()\n",
        "    return np.sum(pred_flat == labels_flat) / len(labels_flat)"
      ],
      "execution_count": null,
      "outputs": []
    },
    {
      "cell_type": "code",
      "metadata": {
        "id": "zXBpr-HAybKD"
      },
      "source": [
        "import time\n",
        "import datetime\n",
        "\n",
        "def format_time(elapsed):\n",
        "    elapsed_rounded = int(round(elapsed))\n",
        "\n",
        "    return str(datetime.timedelta(seconds=elapsed_rounded))"
      ],
      "execution_count": null,
      "outputs": []
    },
    {
      "cell_type": "code",
      "metadata": {
        "id": "f0QRDrYcybKG"
      },
      "source": [
        "import random\n",
        "\n",
        "def set_seed(seed_val):\n",
        "    random.seed(seed_val)\n",
        "    np.random.seed(seed_val)\n",
        "    torch.manual_seed(seed_val)\n",
        "    torch.cuda.manual_seed_all(seed_val)"
      ],
      "execution_count": null,
      "outputs": []
    },
    {
      "cell_type": "code",
      "metadata": {
        "id": "rOCgIIrpybKI",
        "colab": {
          "base_uri": "https://localhost:8080/"
        },
        "outputId": "8c780f95-1010-4a8a-b687-2a1f9ba674ad"
      },
      "source": [
        "seed_val = 42\n",
        "set_seed(seed_val)\n",
        "\n",
        "loss_values = []\n",
        "\n",
        "for epoch in range(0, epochs):\n",
        "    \n",
        "    print(\"\")\n",
        "    print('======== Epoch {:} / {:} ========'.format(epoch + 1, epochs))\n",
        "    print('Training...')\n",
        "   \n",
        "    t0 = time.time()\n",
        "    \n",
        "    total_loss = 0.\n",
        "    \n",
        "    model.train()\n",
        "\n",
        "    for step, batch in enumerate(train_dataloader):\n",
        "        \n",
        "        if step % 40 == 0 and not step == 0:\n",
        "            elapsed = format_time(time.time() - t0)\n",
        "            \n",
        "            print(\"Batch {:>5,} of {:>5,}. Elapsed: {:}.\".format(step, len(train_dataloader), elapsed))\n",
        "        \n",
        "        b_input_ids = batch[0].to(device)\n",
        "        b_input_mask = batch[1].to(device)\n",
        "        b_labels = batch[2].to(device)\n",
        "        \n",
        "        model.zero_grad()\n",
        "        \n",
        "        outputs = model(b_input_ids, token_type_ids=None, attention_mask=b_input_mask, labels=b_labels)\n",
        "        \n",
        "        total_loss += loss.item()\n",
        "\n",
        "        loss.backward()\n",
        "        \n",
        "        torch.nn.utils.clip_grad_norm_(model.parameters(), 1.0)\n",
        "              \n",
        "        optimizer.step()\n",
        "        \n",
        "        scheduler.step()\n",
        "    \n",
        "    avg_train_loss = total_loss / len(train_dataloader)\n",
        "    \n",
        "    loss_values.append(avg_train_loss)\n",
        "    \n",
        "    print(\"\")\n",
        "    print(\"Average training loss: {0:.2f}\".format(avg_train_loss))\n",
        "    print(\"Training epoch took: {:}\".format(format_time(time.time() - t0)))\n",
        "    \n",
        "    print(\"\")\n",
        "    print(\"Running Validation...\")\n",
        "    \n",
        "    t0 = time.time()\n",
        "    \n",
        "    model.eval()\n",
        "    \n",
        "    eval_loss, eval_acc = 0., 0.\n",
        "    \n",
        "    for valid_step, batch in enumerate(valid_dataloader):\n",
        "        \n",
        "        batch = tuple(t.to(device) for t in batch)\n",
        "        \n",
        "        b_input_ids, b_input_mask, b_labels = batch\n",
        "        \n",
        "        with torch.no_grad():\n",
        "            \n",
        "            outputs = model(b_input_ids, token_type_ids=None, attention_mask=b_input_mask)\n",
        "            \n",
        "        logits = outputs[0]\n",
        "        \n",
        "        logits = logits.detach().cpu().numpy()\n",
        "        label_ids = b_labels.to('cpu').numpy()\n",
        "        \n",
        "        tmp_eval_acc = flat_accuracy(logits, label_ids)\n",
        "        \n",
        "        eval_acc += tmp_eval_acc        \n",
        "    \n",
        "    print(\"Accuracy: {0:.2f}\".format(eval_acc / (valid_step + 1)))\n",
        "    print(\"Validation took: {:}\".format(format_time(time.time() - t0)))\n",
        "\n",
        "print(\"\")\n",
        "print(\"Training complete!\")        "
      ],
      "execution_count": null,
      "outputs": [
        {
          "output_type": "stream",
          "text": [
            "\n",
            "======== Epoch 1 / 4 ========\n",
            "Training...\n",
            "Batch    40 of 1,125. Elapsed: 0:00:56.\n",
            "Batch    80 of 1,125. Elapsed: 0:02:00.\n",
            "Batch   120 of 1,125. Elapsed: 0:03:05.\n",
            "Batch   160 of 1,125. Elapsed: 0:04:09.\n",
            "Batch   200 of 1,125. Elapsed: 0:05:14.\n",
            "Batch   240 of 1,125. Elapsed: 0:06:19.\n",
            "Batch   280 of 1,125. Elapsed: 0:07:23.\n",
            "Batch   320 of 1,125. Elapsed: 0:08:28.\n",
            "Batch   360 of 1,125. Elapsed: 0:09:32.\n",
            "Batch   400 of 1,125. Elapsed: 0:10:37.\n",
            "Batch   440 of 1,125. Elapsed: 0:11:42.\n",
            "Batch   480 of 1,125. Elapsed: 0:12:47.\n",
            "Batch   520 of 1,125. Elapsed: 0:13:52.\n",
            "Batch   560 of 1,125. Elapsed: 0:14:56.\n",
            "Batch   600 of 1,125. Elapsed: 0:16:01.\n",
            "Batch   640 of 1,125. Elapsed: 0:17:06.\n",
            "Batch   680 of 1,125. Elapsed: 0:18:11.\n",
            "Batch   720 of 1,125. Elapsed: 0:19:16.\n",
            "Batch   760 of 1,125. Elapsed: 0:20:21.\n",
            "Batch   800 of 1,125. Elapsed: 0:21:26.\n",
            "Batch   840 of 1,125. Elapsed: 0:22:31.\n",
            "Batch   880 of 1,125. Elapsed: 0:23:35.\n",
            "Batch   920 of 1,125. Elapsed: 0:24:40.\n",
            "Batch   960 of 1,125. Elapsed: 0:25:44.\n",
            "Batch 1,000 of 1,125. Elapsed: 0:26:49.\n",
            "Batch 1,040 of 1,125. Elapsed: 0:27:54.\n",
            "Batch 1,080 of 1,125. Elapsed: 0:28:59.\n",
            "Batch 1,120 of 1,125. Elapsed: 0:30:03.\n",
            "\n",
            "Average training loss: 0.26\n",
            "Training epoch took: 0:30:11\n",
            "\n",
            "Running Validation...\n",
            "Accuracy: 0.92\n",
            "Validation took: 0:01:12\n",
            "\n",
            "======== Epoch 2 / 4 ========\n",
            "Training...\n",
            "Batch    40 of 1,125. Elapsed: 0:01:05.\n",
            "Batch    80 of 1,125. Elapsed: 0:02:09.\n",
            "Batch   120 of 1,125. Elapsed: 0:03:14.\n",
            "Batch   160 of 1,125. Elapsed: 0:04:19.\n",
            "Batch   200 of 1,125. Elapsed: 0:05:23.\n",
            "Batch   240 of 1,125. Elapsed: 0:06:28.\n",
            "Batch   280 of 1,125. Elapsed: 0:07:33.\n",
            "Batch   320 of 1,125. Elapsed: 0:08:38.\n",
            "Batch   360 of 1,125. Elapsed: 0:09:43.\n",
            "Batch   400 of 1,125. Elapsed: 0:10:47.\n",
            "Batch   440 of 1,125. Elapsed: 0:11:52.\n",
            "Batch   480 of 1,125. Elapsed: 0:12:56.\n",
            "Batch   520 of 1,125. Elapsed: 0:14:01.\n",
            "Batch   560 of 1,125. Elapsed: 0:15:05.\n",
            "Batch   600 of 1,125. Elapsed: 0:16:10.\n",
            "Batch   640 of 1,125. Elapsed: 0:17:15.\n",
            "Batch   680 of 1,125. Elapsed: 0:18:20.\n",
            "Batch   720 of 1,125. Elapsed: 0:19:24.\n",
            "Batch   760 of 1,125. Elapsed: 0:20:29.\n",
            "Batch   800 of 1,125. Elapsed: 0:21:34.\n",
            "Batch   840 of 1,125. Elapsed: 0:22:39.\n",
            "Batch   880 of 1,125. Elapsed: 0:23:44.\n",
            "Batch   920 of 1,125. Elapsed: 0:24:48.\n",
            "Batch   960 of 1,125. Elapsed: 0:25:53.\n",
            "Batch 1,000 of 1,125. Elapsed: 0:26:57.\n",
            "Batch 1,040 of 1,125. Elapsed: 0:28:02.\n",
            "Batch 1,080 of 1,125. Elapsed: 0:29:06.\n",
            "Batch 1,120 of 1,125. Elapsed: 0:30:11.\n",
            "\n",
            "Average training loss: 0.14\n",
            "Training epoch took: 0:30:19\n",
            "\n",
            "Running Validation...\n",
            "Accuracy: 0.93\n",
            "Validation took: 0:01:12\n",
            "\n",
            "======== Epoch 3 / 4 ========\n",
            "Training...\n",
            "Batch    40 of 1,125. Elapsed: 0:01:05.\n",
            "Batch    80 of 1,125. Elapsed: 0:02:09.\n",
            "Batch   120 of 1,125. Elapsed: 0:03:14.\n",
            "Batch   160 of 1,125. Elapsed: 0:04:19.\n",
            "Batch   200 of 1,125. Elapsed: 0:05:23.\n",
            "Batch   240 of 1,125. Elapsed: 0:06:28.\n",
            "Batch   280 of 1,125. Elapsed: 0:07:33.\n",
            "Batch   320 of 1,125. Elapsed: 0:08:38.\n",
            "Batch   360 of 1,125. Elapsed: 0:09:43.\n",
            "Batch   400 of 1,125. Elapsed: 0:10:47.\n",
            "Batch   440 of 1,125. Elapsed: 0:11:52.\n",
            "Batch   480 of 1,125. Elapsed: 0:12:57.\n",
            "Batch   520 of 1,125. Elapsed: 0:14:02.\n",
            "Batch   560 of 1,125. Elapsed: 0:15:06.\n",
            "Batch   600 of 1,125. Elapsed: 0:16:09.\n",
            "Batch   640 of 1,125. Elapsed: 0:17:12.\n",
            "Batch   680 of 1,125. Elapsed: 0:18:15.\n",
            "Batch   720 of 1,125. Elapsed: 0:19:20.\n",
            "Batch   760 of 1,125. Elapsed: 0:20:24.\n",
            "Batch   800 of 1,125. Elapsed: 0:21:29.\n",
            "Batch   840 of 1,125. Elapsed: 0:22:34.\n",
            "Batch   880 of 1,125. Elapsed: 0:23:39.\n",
            "Batch   920 of 1,125. Elapsed: 0:24:44.\n",
            "Batch   960 of 1,125. Elapsed: 0:25:49.\n",
            "Batch 1,000 of 1,125. Elapsed: 0:26:53.\n",
            "Batch 1,040 of 1,125. Elapsed: 0:27:58.\n",
            "Batch 1,080 of 1,125. Elapsed: 0:29:03.\n",
            "Batch 1,120 of 1,125. Elapsed: 0:30:08.\n",
            "\n",
            "Average training loss: 0.08\n",
            "Training epoch took: 0:30:16\n",
            "\n",
            "Running Validation...\n",
            "Accuracy: 0.92\n",
            "Validation took: 0:01:12\n",
            "\n",
            "======== Epoch 4 / 4 ========\n",
            "Training...\n",
            "Batch    40 of 1,125. Elapsed: 0:01:04.\n",
            "Batch    80 of 1,125. Elapsed: 0:02:08.\n",
            "Batch   120 of 1,125. Elapsed: 0:03:11.\n",
            "Batch   160 of 1,125. Elapsed: 0:04:15.\n",
            "Batch   200 of 1,125. Elapsed: 0:05:20.\n",
            "Batch   240 of 1,125. Elapsed: 0:06:24.\n",
            "Batch   280 of 1,125. Elapsed: 0:07:29.\n",
            "Batch   320 of 1,125. Elapsed: 0:08:34.\n",
            "Batch   360 of 1,125. Elapsed: 0:09:39.\n",
            "Batch   400 of 1,125. Elapsed: 0:10:43.\n",
            "Batch   440 of 1,125. Elapsed: 0:11:48.\n",
            "Batch   480 of 1,125. Elapsed: 0:12:53.\n",
            "Batch   520 of 1,125. Elapsed: 0:13:58.\n",
            "Batch   560 of 1,125. Elapsed: 0:15:02.\n",
            "Batch   600 of 1,125. Elapsed: 0:16:07.\n",
            "Batch   640 of 1,125. Elapsed: 0:17:12.\n",
            "Batch   680 of 1,125. Elapsed: 0:18:16.\n",
            "Batch   720 of 1,125. Elapsed: 0:19:21.\n",
            "Batch   760 of 1,125. Elapsed: 0:20:26.\n",
            "Batch   800 of 1,125. Elapsed: 0:21:30.\n",
            "Batch   840 of 1,125. Elapsed: 0:22:35.\n",
            "Batch   880 of 1,125. Elapsed: 0:23:39.\n",
            "Batch   920 of 1,125. Elapsed: 0:24:44.\n",
            "Batch   960 of 1,125. Elapsed: 0:25:49.\n",
            "Batch 1,000 of 1,125. Elapsed: 0:26:53.\n",
            "Batch 1,040 of 1,125. Elapsed: 0:27:58.\n",
            "Batch 1,080 of 1,125. Elapsed: 0:29:03.\n",
            "Batch 1,120 of 1,125. Elapsed: 0:30:07.\n",
            "\n",
            "Average training loss: 0.05\n",
            "Training epoch took: 0:30:15\n",
            "\n",
            "Running Validation...\n",
            "Accuracy: 0.92\n",
            "Validation took: 0:01:12\n",
            "\n",
            "Training complete!\n"
          ],
          "name": "stdout"
        }
      ]
    },
    {
      "cell_type": "code",
      "metadata": {
        "id": "7HEWjeywybKL",
        "colab": {
          "base_uri": "https://localhost:8080/",
          "height": 427
        },
        "outputId": "8fa6ad1a-1381-499a-d562-df90213a5405"
      },
      "source": [
        "import matplotlib.pyplot as plt\n",
        "% matplotlib inline\n",
        "\n",
        "import seaborn as sns\n",
        "\n",
        "sns.set(style='darkgrid')\n",
        "\n",
        "sns.set(font_scale=1.5)\n",
        "plt.rcParams[\"figure.figsize\"] = (12,6)\n",
        "\n",
        "plt.plot(loss_values, 'b-o')\n",
        "\n",
        "plt.title(\"Training loss\")\n",
        "plt.xlabel(\"Epoch\")\n",
        "plt.ylabel(\"Loss\")\n",
        "\n",
        "plt.show()"
      ],
      "execution_count": null,
      "outputs": [
        {
          "output_type": "display_data",
          "data": {
            "image/png": "[encoded data removed]",
            "text/plain": [
              "<Figure size 864x432 with 1 Axes>"
            ]
          },
          "metadata": {
            "tags": []
          }
        }
      ]
    },
    {
      "cell_type": "code",
      "metadata": {
        "id": "PIg14zYC50F1",
        "colab": {
          "base_uri": "https://localhost:8080/"
        },
        "outputId": "9427eaa7-03f4-4da9-83f7-6e4c2322723f"
      },
      "source": [
        "input_ids = []\n",
        "\n",
        "for sent in test_data:\n",
        "    encoded_sent = tokenizer.encode(\n",
        "                        sent,                      \n",
        "                        add_special_tokens = True, \n",
        "                   )\n",
        "    \n",
        "    input_ids.append(encoded_sent)\n",
        "\n",
        "input_ids = tf.keras.preprocessing.sequence.pad_sequences(input_ids, maxlen=MAXLEN, \n",
        "                          dtype=\"long\", truncating=\"post\", padding=\"post\")\n",
        "\n",
        "attention_masks = []\n",
        "\n",
        "for sent in input_ids:\n",
        "    att_mask = [int(token_id > 0) for token_id in sent]\n",
        "    \n",
        "    attention_masks.append(att_mask)\n",
        "\n",
        "prediction_inputs = torch.tensor(input_ids)\n",
        "prediction_masks = torch.tensor(attention_masks)\n",
        "prediction_labels = torch.tensor(test_label)\n",
        " \n",
        "batch_size = 32  \n",
        "\n",
        "prediction_data = TensorDataset(prediction_inputs, prediction_masks, prediction_labels)\n",
        "prediction_sampler = SequentialSampler(prediction_data)\n",
        "prediction_dataloader = DataLoader(prediction_data, sampler=prediction_sampler, batch_size=batch_size)"
      ],
      "execution_count": null,
      "outputs": [
        {
          "output_type": "stream",
          "text": [
            "Token indices sequence length is longer than the specified maximum sequence length for this model (798 > 512). Running this sequence through the model will result in indexing errors\n"
          ],
          "name": "stderr"
        }
      ]
    },
    {
      "cell_type": "code",
      "metadata": {
        "id": "9PK69aZG6kWt",
        "colab": {
          "base_uri": "https://localhost:8080/"
        },
        "outputId": "dcab39cb-a9c3-40b1-ae8d-fff9dccd3b9b"
      },
      "source": [
        "print('Predicting labels for {:,} test sentences...'.format(len(prediction_inputs)))\n",
        "\n",
        "model.eval()\n",
        "\n",
        "predictions , true_labels = [], []\n",
        "\n",
        "for batch in prediction_dataloader:\n",
        "  batch = tuple(t.to(device) for t in batch)\n",
        "  \n",
        "  b_input_ids, b_input_mask, b_labels = batch\n",
        "  \n",
        "  with torch.no_grad():\n",
        "      outputs = model(b_input_ids, token_type_ids=None, attention_mask=b_input_mask)\n",
        "\n",
        "  logits = outputs[0]\n",
        "\n",
        "  logits = logits.detach().cpu().numpy()\n",
        "  label_ids = b_labels.to('cpu').numpy()\n",
        "\n",
        "  predictions.extend(np.argmax(logits, axis=1).flatten())\n",
        "  true_labels.extend(label_ids.flatten())\n",
        "\n",
        "\n",
        "print('DONE.')"
      ],
      "execution_count": null,
      "outputs": [
        {
          "output_type": "stream",
          "text": [
            "Predicting labels for 10,000 test sentences...\n",
            "DONE.\n"
          ],
          "name": "stdout"
        }
      ]
    },
    {
      "cell_type": "code",
      "metadata": {
        "id": "Q3o8SfUnV--K",
        "colab": {
          "base_uri": "https://localhost:8080/"
        },
        "outputId": "44bceddf-76d5-45ec-e0e6-b9d884539433"
      },
      "source": [
        "from sklearn.metrics import classification_report\n",
        "    \n",
        "target_names = ['negative', 'positive']\n",
        "\n",
        "print(classification_report(true_labels, predictions, digits=4, target_names=target_names))"
      ],
      "execution_count": null,
      "outputs": [
        {
          "output_type": "stream",
          "text": [
            "              precision    recall  f1-score   support\n",
            "\n",
            "    negative     0.9398    0.8805    0.9091      4961\n",
            "    positive     0.8892    0.9444    0.9160      5039\n",
            "\n",
            "    accuracy                         0.9127     10000\n",
            "   macro avg     0.9145    0.9125    0.9126     10000\n",
            "weighted avg     0.9143    0.9127    0.9126     10000\n",
            "\n"
          ],
          "name": "stdout"
        }
      ]
    }
  ]
}